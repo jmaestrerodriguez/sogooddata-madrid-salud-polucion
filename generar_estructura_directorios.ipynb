{
 "cells": [
  {
   "cell_type": "code",
   "execution_count": 1,
   "metadata": {},
   "outputs": [],
   "source": [
    "import os"
   ]
  },
  {
   "cell_type": "code",
   "execution_count": 2,
   "metadata": {},
   "outputs": [],
   "source": [
    "def make_directory(dir_name):\n",
    "    try:\n",
    "        os.makedirs(dir_name)\n",
    "    except:\n",
    "        pass"
   ]
  },
  {
   "cell_type": "code",
   "execution_count": 3,
   "metadata": {},
   "outputs": [],
   "source": [
    "directory_structure = {'data': ['external','interim','processed','raw'],\n",
    "                       'docs': [],\n",
    "                       'models': [],\n",
    "                       'notebooks': [],\n",
    "                       'src': ['data', 'features', 'model']}"
   ]
  },
  {
   "cell_type": "code",
   "execution_count": 4,
   "metadata": {},
   "outputs": [],
   "source": [
    "root_dir = os.getcwd()\n",
    "for directory, subdirectories in directory_structure.items():\n",
    "    if not subdirectories:\n",
    "        dir_name = str(root_dir) + '/' + str(directory)\n",
    "        make_directory(dir_name)\n",
    "    else:\n",
    "        for subdirectory in subdirectories:\n",
    "            dir_name = str(root_dir) + '/' + str(directory) + '/' + str(subdirectory)\n",
    "            make_directory(dir_name)"
   ]
  }
 ],
 "metadata": {
  "kernelspec": {
   "display_name": "Python 3",
   "language": "python",
   "name": "python3"
  },
  "language_info": {
   "codemirror_mode": {
    "name": "ipython",
    "version": 3
   },
   "file_extension": ".py",
   "mimetype": "text/x-python",
   "name": "python",
   "nbconvert_exporter": "python",
   "pygments_lexer": "ipython3",
   "version": "3.8.5"
  }
 },
 "nbformat": 4,
 "nbformat_minor": 4
}
