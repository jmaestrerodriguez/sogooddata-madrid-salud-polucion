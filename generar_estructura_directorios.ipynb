{
 "cells": [
  {
   "cell_type": "code",
   "execution_count": 71,
   "metadata": {},
   "outputs": [],
   "source": [
    "import os"
   ]
  },
  {
   "cell_type": "code",
   "execution_count": 78,
   "metadata": {},
   "outputs": [],
   "source": [
    "def make_directory(dir_name):\n",
    "    try:\n",
    "        os.makedirs(dir_name)\n",
    "    except:\n",
    "        pass\n",
    "\n",
    "    \n",
    "def generar_dict(dir_structure, path):\n",
    "    \"\"\"\n",
    "    Recorre la estructura de directorios, generando el directorio si el nodo es una hoja y llamando de nuevo a la función si es una rama.\n",
    "    \"\"\"\n",
    "    for _dir, substructure in dir_structure.items():\n",
    "        generar_dict(substructure, os.path.join(path, _dir))\n",
    "    make_directory(path)"
   ]
  },
  {
   "cell_type": "code",
   "execution_count": 81,
   "metadata": {},
   "outputs": [],
   "source": [
    "dir_structure = {\n",
    "    'data': {\n",
    "        'external': {\n",
    "            'calidad_aire': {},\n",
    "            'hospitalizaciones': {},\n",
    "            'polen': {},\n",
    "            'tabaquismo': {}            \n",
    "        },\n",
    "        'interim': {},\n",
    "        'processed': {},\n",
    "        'raw': {}\n",
    "    },\n",
    "    'docs': {},\n",
    "    'models': {},\n",
    "    'notebooks': {},\n",
    "    'src': {}\n",
    "}"
   ]
  },
  {
   "cell_type": "code",
   "execution_count": 82,
   "metadata": {},
   "outputs": [],
   "source": [
    "generar_dict(dir_structure, os.getcwd())"
   ]
  }
 ],
 "metadata": {
  "kernelspec": {
   "display_name": "Python 3",
   "language": "python",
   "name": "python3"
  },
  "language_info": {
   "codemirror_mode": {
    "name": "ipython",
    "version": 3
   },
   "file_extension": ".py",
   "mimetype": "text/x-python",
   "name": "python",
   "nbconvert_exporter": "python",
   "pygments_lexer": "ipython3",
   "version": "3.8.5"
  }
 },
 "nbformat": 4,
 "nbformat_minor": 4
}
