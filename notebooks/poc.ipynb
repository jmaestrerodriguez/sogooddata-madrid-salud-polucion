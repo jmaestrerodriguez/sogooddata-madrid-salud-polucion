{
 "cells": [
  {
   "cell_type": "markdown",
   "metadata": {},
   "source": [
    "### PACKAGES, OPTIONS, CONSTANTS"
   ]
  },
  {
   "cell_type": "code",
   "execution_count": 32,
   "metadata": {},
   "outputs": [],
   "source": [
    "import os\n",
    "from os import listdir\n",
    "from os.path import isfile, join\n",
    "\n",
    "import requests\n",
    "from time import sleep\n",
    "import credentials # script python con las credenciales almacenadas en un diccionario\n",
    "\n",
    "import pandas as pd\n",
    "pd.set_option('display.max_columns', None)\n",
    "from datetime import datetime\n",
    "\n",
    "from matplotlib import pyplot as plt\n",
    "import seaborn as sns"
   ]
  },
  {
   "cell_type": "markdown",
   "metadata": {},
   "source": [
    "### FUNCTIONS"
   ]
  },
  {
   "cell_type": "code",
   "execution_count": 50,
   "metadata": {},
   "outputs": [],
   "source": [
    "def etl_hospitalizaciones():\n",
    "    \"\"\"\n",
    "    Generación de df histórico de ingresos, altas y ocupación de hospitales a partir de extracción de CMBD.\n",
    "    \"\"\"\n",
    "    \n",
    "    # Hospitalizaciones\n",
    "    filename = 'CMBD_6_20181217-135856.xlsx'\n",
    "    path = os.path.join('..', 'data', 'external', 'hospitalizaciones', filename)\n",
    "    raw_df = pd.read_excel(path)\n",
    "    \n",
    "    date_cols = ['Fecha de ingreso', 'Fecha de alta']\n",
    "    keep_cols = ['Sexo', 'Edad', 'Diagnóstico Principal', 'Estancia', 'Coste']\n",
    "    \n",
    "    for col in date_cols:\n",
    "        \"\"\"\n",
    "        Dates are codified as integer in DDMMYYYY format, so there's no padding zero if day < 10, i.e:\n",
    "        28042013 -> 2013-04-28\n",
    "        7022013 -> 2013-02-07\n",
    "        \"\"\"\n",
    "        raw_df[col + ' new'] = pd.to_datetime(raw_df[col].map(lambda col: str(col).zfill(8)), format='%d%m%Y', errors = 'coerce')\n",
    "    \n",
    "    interim_df = raw_df[keep_cols].copy()\n",
    "    \n",
    "    for col in date_cols:\n",
    "        interim_df[col] = raw_df[col + ' new'].copy()\n",
    "        \n",
    "     # Ingresos y altas by date\n",
    "    ingresos_diarios_df = interim_df.groupby(['Fecha de ingreso']).size().reset_index(name = 'Ingresos')\n",
    "    ingresos_diarios_df.set_index('Fecha de ingreso', inplace = True)\n",
    "    ingresos_diarios_df.index.names = ['Fecha']\n",
    "    \n",
    "    altas_diarias_df = interim_df.groupby(['Fecha de alta']).size().reset_index(name = 'Altas')\n",
    "    altas_diarias_df.set_index('Fecha de alta', inplace = True)\n",
    "    altas_diarias_df.index.names = ['Fecha']\n",
    "    \n",
    "    # Join by date, cumsum\n",
    "    hospitalizaciones_df = altas_diarias_df.join(ingresos_diarios_df, how= 'outer')\n",
    "    hospitalizaciones_df['Ingresos acumulados'] = hospitalizaciones_df['Ingresos'].cumsum()\n",
    "    hospitalizaciones_df['Altas acumuladas'] = hospitalizaciones_df['Altas'].cumsum()\n",
    "    hospitalizaciones_df['Ocupacion'] = hospitalizaciones_df['Ingresos acumulados'] - hospitalizaciones_df['Altas acumuladas']\n",
    "    \n",
    "    # Export to csv\n",
    "    hospitalizaciones_df.to_csv(os.path.join('..', 'data', 'processed', 'hospitalizaciones'))\n",
    "    \n",
    "    return hospitalizaciones_df\n",
    "\n",
    "\n",
    "def etl_calidad_aire():\n",
    "    \"\"\"\n",
    "    Generación de df con datos de calidad del aire a partir de histórico en conjunto de ficheros csv.\n",
    "    \"\"\"\n",
    "    \n",
    "    path = os.path.join('..', 'data', 'external', 'calidad_aire')\n",
    "    \n",
    "    # Cargar tabla magnitudes, unidades y técnicas de medida.\n",
    "    mag_uni_tec_df = pd.read_csv(os.path.join(path,'magnitudes_unidades_tecnicas_medida.csv'))\n",
    "    \n",
    "    # Listar ficheros de datos de calidad del aire.\n",
    "    list_of_files = [f for f in listdir(path) if isfile(join(path, f))]\n",
    "    list_of_csv_files = [file for file in list_of_files if file.endswith('csv') and file.startswith('datos')]\n",
    "    \n",
    "    # Concatenar ficheros de calidad del aire en df.\n",
    "    raw_df = pd.concat([pd.read_csv(os.path.join(path, file), delimiter = ';') for file in list_of_csv_files])\n",
    "\n",
    "    #raw_df = pd.read_csv(csv_path, delimiter = ';')\n",
    "    raw_df = raw_df.merge(mag_uni_tec_df[['MAGNITUD ID', 'MAGNITUD ABREV']], \n",
    "                          left_on = 'MAGNITUD', \n",
    "                          right_on = 'MAGNITUD ID', \n",
    "                          how= 'left') # Pegar descripción de magnitud.\n",
    "    \n",
    "    # Trasponer wide to long => añomes to día\n",
    "    id_cols = ['PROVINCIA', 'MUNICIPIO', 'ESTACION', 'MAGNITUD ABREV', 'PUNTO_MUESTREO', 'ANO', 'MES']\n",
    "    value_cols = ['D' + str(n).zfill(2) for n in range(1,32,1)]\n",
    "    \n",
    "    interim_df = pd.melt(raw_df, id_cols, value_cols)\n",
    "    interim_df['DIA'] = interim_df['variable'].map(lambda var: var[1:])\n",
    "    interim_df['FECHA'] = pd.to_datetime(interim_df['ANO'].astype(str) \n",
    "                                          + interim_df['MES'].astype(str).str.zfill(2)\n",
    "                                          + interim_df['DIA'], \n",
    "                                         format='%Y%m%d', errors = 'coerce')\n",
    "    \n",
    "    key = ['FECHA', 'MAGNITUD ABREV']\n",
    "    calidad_aire_t_df = interim_df[key + ['value']].groupby(key).mean()\n",
    "    \n",
    "    # Trasponer long to wide => fecha, medida 1, medida 2, ..., medida n\n",
    "    calidad_aire_df = calidad_aire_t_df.pivot_table(index= 'FECHA', \n",
    "                                                    columns= 'MAGNITUD ABREV', \n",
    "                                                    values= 'value')\n",
    "    \n",
    "    return calidad_aire_df\n",
    "\n",
    "\n",
    "def etl_tabaquismo():\n",
    "    \"\"\"\n",
    "    Generación de df con datos históricos de consumo de tabaco, a partir de agregación de datos de INCLASNS.\n",
    "    \"\"\"\n",
    "    \n",
    "    # Cargar csv\n",
    "    path = os.path.join('..', 'data', 'external', \"tabaquismo\")\n",
    "    filename = \"inclasns_tabaquismo.csv\"\n",
    "    raw_df = pd.read_csv(os.path.join(path, filename))\n",
    "    \n",
    "    # Generar fecha a partir de año\n",
    "    raw_df['FECHA'] = pd.to_datetime(raw_df['ANO'].astype(str) + '01' + '01', \n",
    "                                     format='%Y%m%d', errors = 'coerce')\n",
    "    \n",
    "    # Pivotar wide to long => generar [CCAA, value]\n",
    "    drop_cols = ['ANO']\n",
    "    id_cols = ['FECHA', 'SEXO']\n",
    "    value_cols = list(set(raw_df.columns.values).difference(set(drop_cols).union(set(id_cols)))) # Las columnas CCAA son todas las del df menos las id de pivot y las que dropeamos\n",
    "    interim_df = pd.melt(raw_df, id_cols, value_cols)\n",
    "    interim_df.rename(columns = {\"variable\": \"CCAA\", \"value\": \"PCT_tabaquismo\"}, # Renombrar por legibilidad de la siguiente trasposición\n",
    "                      inplace = True)\n",
    "    \n",
    "    # Trasponer long to wide => generar [PCT_tabaquismo_H, PCT_Tabaquismo_M, PCT_Tabaquismo\n",
    "    tabaquismo_df = interim_df.pivot_table(index= ['FECHA','CCAA'], \n",
    "                                           columns= 'SEXO', \n",
    "                                           values= 'PCT_tabaquismo')\n",
    "    \n",
    "    rename_cols = {col: 'PCT_tabaquismo_' + col.lower() for col in tabaquismo_df.columns.values}\n",
    "    tabaquismo_df.rename(columns = rename_cols, \n",
    "                         inplace = True)\n",
    "    \n",
    "    # Dividir entre 100 para representar porcentaje.\n",
    "    for col in tabaquismo_df.columns.values:\n",
    "        tabaquismo_df[col] = tabaquismo_df[col] / 100\n",
    "        \n",
    "    tabaquismo_df.reset_index(inplace = True)\n",
    "    tabaquismo_df.rename_axis(None, axis=1, inplace = True)\n",
    "    tabaquismo_df.set_index(keys = 'FECHA', inplace = True)\n",
    "    \n",
    "    return tabaquismo_df\n",
    "\n",
    "\n",
    "def etl_polen():\n",
    "    \"\"\"\n",
    "    Generación de df con concentraciones de distintos tipos de polen a nivel mensual, a partir de calendario polínico de España.\n",
    "    \"\"\"\n",
    "    \n",
    "    path = os.path.join('..', 'data', 'external', \"polen\")\n",
    "    filename = \"calendario_polinico_espana.csv\"\n",
    "    polen_df = pd.read_csv(os.path.join(path, filename))\n",
    "    polen_df.set_index('Mes', inplace = True)\n",
    "    \n",
    "    return polen_df\n",
    "\n",
    "\n",
    "def etl_climatologia():\n",
    "    \"\"\"\n",
    "    Generación de df con información de datos climáticos.\n",
    "    \"\"\"\n",
    "    # Parámetros de la request a la API\n",
    "    anyo_ini = 2020\n",
    "    anyo_fin = 2021\n",
    "    endpoint = \"https://opendata.aemet.es/opendata/api/valores/climatologicos/diarios/datos/\"\n",
    "    estacion = 3195\n",
    "    querystring = {\"api_key\": credentials.api_keys['aemet_opendata']}\n",
    "    headers = {'cache-control': \"no-cache\"}\n",
    "    \n",
    "    # La API solo permite traerse 5 años, de modo que lanzamos peticiones secuenciales, 1 por año.\n",
    "    for anyo in range(anyo_ini, anyo_fin + 1):\n",
    "        \n",
    "        url = endpoint + \"fechaini/{anyo}-01-01T00%3A00%3A00UTC/fechafin/{anyo}-12-31T23%3A59%3A59UTC/estacion/{estacion}\".format(anyo = anyo, estacion = estacion)\n",
    "        \n",
    "        while True: # La API no permite sobrepasar cierto número de peticiones por minuto; si alcanzamos el límite, reintentamos pasados 60 segundos.\n",
    "            try:\n",
    "                response = requests.request(\"GET\", url, headers=headers, params=querystring)\n",
    "                print(response.json())\n",
    "                response = requests.request(\"GET\", response.json()['datos'], headers=headers, params=querystring)\n",
    "                \n",
    "            except:\n",
    "                sleep(60)\n",
    "            break\n",
    "    \n",
    "    climatologia_df = pd.json_normalize(response.json())\n",
    "    return climatologia_df\n",
    "    \n",
    "    "
   ]
  },
  {
   "cell_type": "markdown",
   "metadata": {},
   "source": [
    "### ETL PIPELINE"
   ]
  },
  {
   "cell_type": "code",
   "execution_count": 52,
   "metadata": {},
   "outputs": [
    {
     "name": "stdout",
     "output_type": "stream",
     "text": [
      "{'descripcion': 'exito', 'estado': 200, 'datos': 'https://opendata.aemet.es/opendata/sh/55c1569a', 'metadatos': 'https://opendata.aemet.es/opendata/sh/b3aa9d28'}\n",
      "{'descripcion': 'exito', 'estado': 200, 'datos': 'https://opendata.aemet.es/opendata/sh/f84d8252', 'metadatos': 'https://opendata.aemet.es/opendata/sh/b3aa9d28'}\n",
      "          fecha indicativo          nombre provincia altitud  tmed prec  tmin  \\\n",
      "0    2021-01-01       3195  MADRID, RETIRO    MADRID     667   4,0  0,0   1,6   \n",
      "1    2021-01-02       3195  MADRID, RETIRO    MADRID     667   2,2  0,0  -0,9   \n",
      "2    2021-01-03       3195  MADRID, RETIRO    MADRID     667   3,0  0,0  -1,8   \n",
      "3    2021-01-04       3195  MADRID, RETIRO    MADRID     667   2,7  0,0   0,0   \n",
      "4    2021-01-05       3195  MADRID, RETIRO    MADRID     667   1,5  0,0  -1,7   \n",
      "..          ...        ...             ...       ...     ...   ...  ...   ...   \n",
      "132  2021-05-13       3195  MADRID, RETIRO    MADRID     667  14,6  0,0   9,6   \n",
      "133  2021-05-14       3195  MADRID, RETIRO    MADRID     667  16,6  0,0  10,6   \n",
      "134  2021-05-15       3195  MADRID, RETIRO    MADRID     667  18,9  0,0  12,1   \n",
      "135  2021-05-16       3195  MADRID, RETIRO    MADRID     667  20,0  0,0  14,1   \n",
      "136  2021-05-17       3195  MADRID, RETIRO    MADRID     667  19,3  0,0  13,0   \n",
      "\n",
      "    horatmin  tmax horatmax presMax horaPresMax presMin horaPresMin  \n",
      "0      05:45   6,5    12:25   933,9          23   931,5      Varias  \n",
      "1      23:59   5,4    12:50   937,7          24   934,0          00  \n",
      "2      04:15   7,8    13:45   938,5          10   935,3          24  \n",
      "3      03:20   5,4   Varias   935,1          00   932,0      Varias  \n",
      "4      06:20   4,7    15:00   935,5          10   933,1          17  \n",
      "..       ...   ...      ...     ...         ...     ...         ...  \n",
      "132    05:00  19,6    15:40   941,4          00   936,1          18  \n",
      "133    04:10  22,6    16:20   940,5      Varias   937,8          02  \n",
      "134    05:30  25,7    14:20   939,9          00   937,5          17  \n",
      "135    05:30  25,9    14:30   939,5          23   937,5          18  \n",
      "136    05:10  25,6    14:10   942,2          10   938,9          02  \n",
      "\n",
      "[137 rows x 15 columns]\n"
     ]
    }
   ],
   "source": [
    "\"\"\"\n",
    "hospitalizaciones_df = etl_hospitalizaciones()\n",
    "calidad_aire_df = etl_calidad_aire()\n",
    "tabaquismo_df = etl_tabaquismo()\n",
    "polen_df = etl_polen()\n",
    "\"\"\"\n",
    "climatologia_df = etl_climatologia()\n",
    "print(climatologia_df)"
   ]
  },
  {
   "cell_type": "markdown",
   "metadata": {},
   "source": [
    "### EDA"
   ]
  },
  {
   "cell_type": "code",
   "execution_count": 4,
   "metadata": {},
   "outputs": [
    {
     "ename": "NameError",
     "evalue": "name 'hospitalizaciones_df' is not defined",
     "output_type": "error",
     "traceback": [
      "\u001b[1;31m---------------------------------------------------------------------------\u001b[0m",
      "\u001b[1;31mNameError\u001b[0m                                 Traceback (most recent call last)",
      "\u001b[1;32m<ipython-input-4-e1b0f6509920>\u001b[0m in \u001b[0;36m<module>\u001b[1;34m\u001b[0m\n\u001b[0;32m      2\u001b[0m \u001b[0mfig\u001b[0m\u001b[1;33m,\u001b[0m \u001b[0max\u001b[0m \u001b[1;33m=\u001b[0m \u001b[0mplt\u001b[0m\u001b[1;33m.\u001b[0m\u001b[0msubplots\u001b[0m\u001b[1;33m(\u001b[0m\u001b[0mfigsize\u001b[0m\u001b[1;33m=\u001b[0m\u001b[0mfig_dims\u001b[0m\u001b[1;33m)\u001b[0m\u001b[1;33m\u001b[0m\u001b[1;33m\u001b[0m\u001b[0m\n\u001b[0;32m      3\u001b[0m \u001b[0mplot_cols\u001b[0m \u001b[1;33m=\u001b[0m \u001b[1;33m[\u001b[0m\u001b[1;34m'Altas'\u001b[0m\u001b[1;33m,\u001b[0m\u001b[1;34m'Ingresos'\u001b[0m\u001b[1;33m,\u001b[0m\u001b[1;34m'Ocupacion'\u001b[0m\u001b[1;33m]\u001b[0m\u001b[1;33m\u001b[0m\u001b[1;33m\u001b[0m\u001b[0m\n\u001b[1;32m----> 4\u001b[1;33m \u001b[0msns\u001b[0m\u001b[1;33m.\u001b[0m\u001b[0mlineplot\u001b[0m\u001b[1;33m(\u001b[0m\u001b[0mdata\u001b[0m\u001b[1;33m=\u001b[0m\u001b[0mhospitalizaciones_df\u001b[0m\u001b[1;33m[\u001b[0m\u001b[0mplot_cols\u001b[0m\u001b[1;33m]\u001b[0m\u001b[1;33m,\u001b[0m \u001b[0max\u001b[0m \u001b[1;33m=\u001b[0m \u001b[0max\u001b[0m\u001b[1;33m)\u001b[0m\u001b[1;33m;\u001b[0m\u001b[1;33m\u001b[0m\u001b[1;33m\u001b[0m\u001b[0m\n\u001b[0m\u001b[0;32m      5\u001b[0m \u001b[1;33m\u001b[0m\u001b[0m\n\u001b[0;32m      6\u001b[0m \u001b[0mfig_dims\u001b[0m \u001b[1;33m=\u001b[0m \u001b[1;33m(\u001b[0m\u001b[1;36m20\u001b[0m\u001b[1;33m,\u001b[0m \u001b[1;36m10\u001b[0m\u001b[1;33m)\u001b[0m\u001b[1;33m\u001b[0m\u001b[1;33m\u001b[0m\u001b[0m\n",
      "\u001b[1;31mNameError\u001b[0m: name 'hospitalizaciones_df' is not defined"
     ]
    },
    {
     "data": {
      "image/png": "[encoded data removed]",
      "text/plain": [
       "<Figure size 1440x720 with 1 Axes>"
      ]
     },
     "metadata": {
      "needs_background": "light"
     },
     "output_type": "display_data"
    }
   ],
   "source": [
    "fig_dims = (20, 10)\n",
    "fig, ax = plt.subplots(figsize=fig_dims)\n",
    "plot_cols = ['Altas','Ingresos','Ocupacion']\n",
    "sns.lineplot(data=hospitalizaciones_df[plot_cols], ax = ax);\n",
    "\n",
    "fig_dims = (20, 10)\n",
    "fig, ax = plt.subplots(figsize=fig_dims)\n",
    "sns.lineplot(data=calidad_aire_df, ax = ax);\n",
    "\n",
    "fig_dims = (20, 10)\n",
    "fig, ax = plt.subplots(figsize=fig_dims)\n",
    "filtro = tabaquismo_df['CCAA'] == 'Comunidad de Madrid'\n",
    "sns.lineplot(data=tabaquismo_df.loc[filtro], ax = ax);"
   ]
  },
  {
   "cell_type": "markdown",
   "metadata": {},
   "source": [
    "### DATA PREP PIPELINE"
   ]
  },
  {
   "cell_type": "code",
   "execution_count": null,
   "metadata": {},
   "outputs": [],
   "source": [
    "merge_all_df = hospitalizaciones_df.join(calidad_aire_df, \n",
    "                                         how= 'left')"
   ]
  },
  {
   "cell_type": "code",
   "execution_count": null,
   "metadata": {},
   "outputs": [],
   "source": [
    "merge_all_df.head(100)"
   ]
  }
 ],
 "metadata": {
  "kernelspec": {
   "display_name": "Python 3",
   "language": "python",
   "name": "python3"
  },
  "language_info": {
   "codemirror_mode": {
    "name": "ipython",
    "version": 3
   },
   "file_extension": ".py",
   "mimetype": "text/x-python",
   "name": "python",
   "nbconvert_exporter": "python",
   "pygments_lexer": "ipython3",
   "version": "3.8.5"
  }
 },
 "nbformat": 4,
 "nbformat_minor": 4
}
